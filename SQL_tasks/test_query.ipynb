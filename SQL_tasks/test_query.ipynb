{
 "cells": [
  {
   "cell_type": "code",
   "execution_count": 1,
   "metadata": {},
   "outputs": [],
   "source": [
    "import sqlite3\n",
    "import pandas as pd"
   ]
  },
  {
   "cell_type": "code",
   "execution_count": 2,
   "metadata": {},
   "outputs": [
    {
     "name": "stdout",
     "output_type": "stream",
     "text": [
      "START TEST SQL1\n",
      "  task_group  avg_opened_time\n",
      "0          A           153.35\n",
      "1          B           191.50\n",
      "2          C           307.77\n",
      "3          D           569.74\n",
      "4          E           405.24\n",
      "START  TEST SQL2\n",
      "  issue_key     status     started_datetime\n",
      "0   A-31053       Open  2020-10-21 15:08:13\n",
      "1   A-32133       Open  2021-04-29 09:55:29\n",
      "2   A-37761     In Owl  2022-12-28 08:18:46\n",
      "3   A-42030       Open  2022-09-01 15:04:15\n",
      "4   A-44107     In Owl  2022-12-26 18:31:23\n",
      "5   A-44901     In Owl  2022-12-27 12:11:12\n",
      "6   A-44916    Blocked  2022-09-15 09:17:04\n",
      "7   A-47808   Reopened  2022-10-31 08:54:08\n",
      "8   A-49140   Reopened  2022-12-29 11:03:37\n",
      "9   A-49829  In Review  2022-10-20 10:13:04\n"
     ]
    }
   ],
   "source": [
    "with sqlite3.connect(\"test.db\") as conn:\n",
    "    cursor = conn.cursor()\n",
    "    print(\"START TEST SQL1\")\n",
    "    with open(\"SQL1.sql\", \"r\") as sql_file:\n",
    "        sql_script = sql_file.read()\n",
    "    df = pd.read_sql_query(sql_script, conn)\n",
    "    print(df)\n",
    "    print(\"START  TEST SQL2\")\n",
    "    with open(\"SQL2.sql\", \"r\") as sql_file:\n",
    "        sql_script = sql_file.read()\n",
    "    df = pd.read_sql_query(sql_script, conn)\n",
    "    print(df.head(10))"
   ]
  },
  {
   "cell_type": "code",
   "execution_count": null,
   "metadata": {},
   "outputs": [],
   "source": []
  }
 ],
 "metadata": {
  "kernelspec": {
   "display_name": "Python 3",
   "language": "python",
   "name": "python3"
  },
  "language_info": {
   "codemirror_mode": {
    "name": "ipython",
    "version": 3
   },
   "file_extension": ".py",
   "mimetype": "text/x-python",
   "name": "python",
   "nbconvert_exporter": "python",
   "pygments_lexer": "ipython3",
   "version": "3.8.10"
  },
  "orig_nbformat": 4,
  "vscode": {
   "interpreter": {
    "hash": "916dbcbb3f70747c44a77c7bcd40155683ae19c65e1c03b4aa3499c5328201f1"
   }
  }
 },
 "nbformat": 4,
 "nbformat_minor": 2
}
